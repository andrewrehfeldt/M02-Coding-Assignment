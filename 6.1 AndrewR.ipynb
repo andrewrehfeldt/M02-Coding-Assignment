{
 "cells": [
  {
   "cell_type": "code",
   "execution_count": null,
   "metadata": {},
   "outputs": [],
   "source": [
    "list = [3,2,1,0]\n",
    "for x in list:\n",
    "    print(x)"
   ]
  }
 ],
 "metadata": {
  "kernelspec": {
   "display_name": "Python 3",
   "language": "python",
   "name": "python3"
  },
  "language_info": {
   "name": "python",
   "version": "3.10.9 (tags/v3.10.9:1dd9be6, Dec  6 2022, 20:01:21) [MSC v.1934 64 bit (AMD64)]"
  },
  "orig_nbformat": 4,
  "vscode": {
   "interpreter": {
    "hash": "cfaffc1e86254a96d0da7a6868ccd5946008f61ca27e4666fbad5d348bbb221e"
   }
  }
 },
 "nbformat": 4,
 "nbformat_minor": 2
}
