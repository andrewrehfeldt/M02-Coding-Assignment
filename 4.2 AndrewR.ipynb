{
 "cells": [
  {
   "cell_type": "code",
   "execution_count": null,
   "metadata": {},
   "outputs": [],
   "source": [
    "\"small\" == True\n",
    "\"green\" == True\n",
    "\n",
    "if \"small\" == True and \"green\" == True:\n",
    "    print(\"Pea\")\n",
    "elif \"small\" == True and \"green\" == False:\n",
    "    print(\"Cherry\")\n",
    "elif \"small\" == False and \"green\" == True:\n",
    "    print(\"Watermelon\")\n",
    "else: \n",
    "    print(\"Pumpkin\")"
   ]
  }
 ],
 "metadata": {
  "kernelspec": {
   "display_name": "Python 3",
   "language": "python",
   "name": "python3"
  },
  "language_info": {
   "name": "python",
   "version": "3.10.9 (tags/v3.10.9:1dd9be6, Dec  6 2022, 20:01:21) [MSC v.1934 64 bit (AMD64)]"
  },
  "orig_nbformat": 4,
  "vscode": {
   "interpreter": {
    "hash": "cfaffc1e86254a96d0da7a6868ccd5946008f61ca27e4666fbad5d348bbb221e"
   }
  }
 },
 "nbformat": 4,
 "nbformat_minor": 2
}
