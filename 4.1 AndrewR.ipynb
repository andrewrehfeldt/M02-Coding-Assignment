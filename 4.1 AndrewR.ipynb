{
 "cells": [
  {
   "cell_type": "code",
   "execution_count": 3,
   "metadata": {},
   "outputs": [
    {
     "name": "stdout",
     "output_type": "stream",
     "text": [
      " Too High \n"
     ]
    }
   ],
   "source": [
    "# Andrew Rehfeldt\n",
    "secret = 2\n",
    "guess = 9\n",
    "\n",
    "if guess > secret:\n",
    "    print(\" Too High \")\n",
    "elif guess < secret:\n",
    "    print(\" Too Low \")\n",
    "else:\n",
    "    print(\"Just Right! \")"
   ]
  }
 ],
 "metadata": {
  "kernelspec": {
   "display_name": "Python 3",
   "language": "python",
   "name": "python3"
  },
  "language_info": {
   "codemirror_mode": {
    "name": "ipython",
    "version": 3
   },
   "file_extension": ".py",
   "mimetype": "text/x-python",
   "name": "python",
   "nbconvert_exporter": "python",
   "pygments_lexer": "ipython3",
   "version": "3.10.9"
  },
  "orig_nbformat": 4,
  "vscode": {
   "interpreter": {
    "hash": "cfaffc1e86254a96d0da7a6868ccd5946008f61ca27e4666fbad5d348bbb221e"
   }
  }
 },
 "nbformat": 4,
 "nbformat_minor": 2
}
