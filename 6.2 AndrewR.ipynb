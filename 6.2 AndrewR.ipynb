{
 "cells": [
  {
   "cell_type": "code",
   "execution_count": null,
   "metadata": {},
   "outputs": [],
   "source": [
    "guess_me = 7\n",
    "number = 1\n",
    "\n",
    "while number < guess_me:\n",
    "    print('Too Low!')\n",
    "if number > guess_me:\n",
    "        print('Oops!')\n",
    "elif number == guess_me:\n",
    "    print('Found it')\n",
    "    number += 1\n",
    "    \n",
    "\n",
    "\n",
    "for 'number' in range(10):\n",
    "    if number < guess_me:\n",
    "        print(\"Too Low!\")\n",
    "    elif number == guess_me:\n",
    "        print(\"Found it\")\n",
    "        break\n",
    "    elif number > guess_me:\n",
    "        print(\"Oops\")\n",
    "\n",
    "guess_me = 5\n",
    "for number in range(10):\n",
    "    if number < guess_me:\n",
    "        print('Too Low')\n",
    "    elif number == guess_me:\n",
    "        print('Found it\"')\n",
    "        break\n",
    "    else: print('Oops')"
   ]
  }
 ],
 "metadata": {
  "language_info": {
   "name": "python"
  },
  "orig_nbformat": 4
 },
 "nbformat": 4,
 "nbformat_minor": 2
}
